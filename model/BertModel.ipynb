{
 "cells": [
  {
   "cell_type": "markdown",
   "id": "3a88094c",
   "metadata": {},
   "source": [
    "### Base Bart Model"
   ]
  },
  {
   "cell_type": "code",
   "execution_count": 7,
   "id": "4fa4f8ca",
   "metadata": {},
   "outputs": [
    {
     "name": "stdout",
     "output_type": "stream",
     "text": [
      "torch.Size([1, 8, 768])\n"
     ]
    }
   ],
   "source": [
    "from transformers import BartModel, BartTokenizer\n",
    "\n",
    "# Load tokenizer and base model\n",
    "tokenizer = BartTokenizer.from_pretrained(\"facebook/bart-base\")\n",
    "model = BartModel.from_pretrained(\"facebook/bart-base\")\n",
    "\n",
    "# Tokenize input text\n",
    "inputs = tokenizer(\"Hello, how are you?\", return_tensors=\"pt\")\n",
    "\n",
    "# Forward pass through the model\n",
    "outputs = model(**inputs)\n",
    "\n",
    "# Access encoder's last hidden state\n",
    "last_hidden_state = outputs.last_hidden_state\n",
    "print(last_hidden_state.shape)\n"
   ]
  },
  {
   "cell_type": "markdown",
   "id": "07e4cdce",
   "metadata": {},
   "source": [
    "### Architecture of base Bart Model:"
   ]
  },
  {
   "cell_type": "code",
   "execution_count": 8,
   "id": "a89dd97c",
   "metadata": {},
   "outputs": [
    {
     "data": {
      "text/plain": [
       "BartModel(\n",
       "  (shared): BartScaledWordEmbedding(50265, 768, padding_idx=1)\n",
       "  (encoder): BartEncoder(\n",
       "    (embed_tokens): BartScaledWordEmbedding(50265, 768, padding_idx=1)\n",
       "    (embed_positions): BartLearnedPositionalEmbedding(1026, 768)\n",
       "    (layers): ModuleList(\n",
       "      (0-5): 6 x BartEncoderLayer(\n",
       "        (self_attn): BartSdpaAttention(\n",
       "          (k_proj): Linear(in_features=768, out_features=768, bias=True)\n",
       "          (v_proj): Linear(in_features=768, out_features=768, bias=True)\n",
       "          (q_proj): Linear(in_features=768, out_features=768, bias=True)\n",
       "          (out_proj): Linear(in_features=768, out_features=768, bias=True)\n",
       "        )\n",
       "        (self_attn_layer_norm): LayerNorm((768,), eps=1e-05, elementwise_affine=True)\n",
       "        (activation_fn): GELUActivation()\n",
       "        (fc1): Linear(in_features=768, out_features=3072, bias=True)\n",
       "        (fc2): Linear(in_features=3072, out_features=768, bias=True)\n",
       "        (final_layer_norm): LayerNorm((768,), eps=1e-05, elementwise_affine=True)\n",
       "      )\n",
       "    )\n",
       "    (layernorm_embedding): LayerNorm((768,), eps=1e-05, elementwise_affine=True)\n",
       "  )\n",
       "  (decoder): BartDecoder(\n",
       "    (embed_tokens): BartScaledWordEmbedding(50265, 768, padding_idx=1)\n",
       "    (embed_positions): BartLearnedPositionalEmbedding(1026, 768)\n",
       "    (layers): ModuleList(\n",
       "      (0-5): 6 x BartDecoderLayer(\n",
       "        (self_attn): BartSdpaAttention(\n",
       "          (k_proj): Linear(in_features=768, out_features=768, bias=True)\n",
       "          (v_proj): Linear(in_features=768, out_features=768, bias=True)\n",
       "          (q_proj): Linear(in_features=768, out_features=768, bias=True)\n",
       "          (out_proj): Linear(in_features=768, out_features=768, bias=True)\n",
       "        )\n",
       "        (activation_fn): GELUActivation()\n",
       "        (self_attn_layer_norm): LayerNorm((768,), eps=1e-05, elementwise_affine=True)\n",
       "        (encoder_attn): BartSdpaAttention(\n",
       "          (k_proj): Linear(in_features=768, out_features=768, bias=True)\n",
       "          (v_proj): Linear(in_features=768, out_features=768, bias=True)\n",
       "          (q_proj): Linear(in_features=768, out_features=768, bias=True)\n",
       "          (out_proj): Linear(in_features=768, out_features=768, bias=True)\n",
       "        )\n",
       "        (encoder_attn_layer_norm): LayerNorm((768,), eps=1e-05, elementwise_affine=True)\n",
       "        (fc1): Linear(in_features=768, out_features=3072, bias=True)\n",
       "        (fc2): Linear(in_features=3072, out_features=768, bias=True)\n",
       "        (final_layer_norm): LayerNorm((768,), eps=1e-05, elementwise_affine=True)\n",
       "      )\n",
       "    )\n",
       "    (layernorm_embedding): LayerNorm((768,), eps=1e-05, elementwise_affine=True)\n",
       "  )\n",
       ")"
      ]
     },
     "execution_count": 8,
     "metadata": {},
     "output_type": "execute_result"
    }
   ],
   "source": [
    "model"
   ]
  },
  {
   "cell_type": "code",
   "execution_count": 3,
   "id": "0deff0c1",
   "metadata": {},
   "outputs": [
    {
     "name": "stdout",
     "output_type": "stream",
     "text": [
      "Decoder output shape: torch.Size([1, 1, 768])\n"
     ]
    }
   ],
   "source": [
    "from transformers import BartTokenizer, BartModel\n",
    "import torch\n",
    "\n",
    "# Load tokenizer and base BartModel\n",
    "tokenizer = BartTokenizer.from_pretrained(\"facebook/bart-base\")\n",
    "model = BartModel.from_pretrained(\"facebook/bart-base\")\n",
    "\n",
    "# Input text (for encoder)\n",
    "input_text = \"Hello, how are you?\"\n",
    "inputs = tokenizer(input_text, return_tensors=\"pt\")\n",
    "\n",
    "# Decoder input (start token + optionally previous tokens)\n",
    "decoder_input_ids = torch.tensor([[tokenizer.eos_token_id]])  # start with </s> token\n",
    "\n",
    "# Forward pass through model\n",
    "outputs = model(input_ids=inputs.input_ids, decoder_input_ids=decoder_input_ids)\n",
    "\n",
    "# Extract decoder output (last hidden states of the decoder)\n",
    "decoder_output = outputs.last_hidden_state\n",
    "\n",
    "print(\"Decoder output shape:\", decoder_output.shape)\n",
    "# print(\"Decoder output:\", decoder_output)\n"
   ]
  },
  {
   "cell_type": "code",
   "execution_count": 9,
   "id": "e2f8c8d6",
   "metadata": {},
   "outputs": [
    {
     "name": "stdout",
     "output_type": "stream",
     "text": [
      "Input shape: torch.Size([1, 8])\n",
      "Encoder output shape: torch.Size([1, 8, 768])\n",
      "Decoder output shape: torch.Size([1, 1, 768])\n"
     ]
    }
   ],
   "source": [
    "from transformers import BartTokenizer, BartModel\n",
    "import torch\n",
    "\n",
    "tokenizer = BartTokenizer.from_pretrained(\"facebook/bart-base\")\n",
    "model = BartModel.from_pretrained(\"facebook/bart-base\")\n",
    "\n",
    "# 1️⃣ Encode input\n",
    "input_text = \"Hello, how are you?\"\n",
    "inputs = tokenizer(input_text, return_tensors=\"pt\")\n",
    "print(\"Input shape:\", inputs.input_ids.shape)   \n",
    "\n",
    "encoder_outputs = model.encoder(input_ids=inputs.input_ids)\n",
    "encoder_hidden_states = encoder_outputs.last_hidden_state  # shape: (batch, seq_len, hidden_size)\n",
    "\n",
    "print(\"Encoder output shape:\", encoder_hidden_states.shape)\n",
    "\n",
    "# 2️⃣ Prepare decoder input (start token </s>)\n",
    "decoder_input_ids = torch.tensor([[tokenizer.eos_token_id]])\n",
    "\n",
    "# 3️⃣ Decode, passing encoder_hidden_states manually\n",
    "decoder_outputs =model.decoder(\n",
    "    input_ids=decoder_input_ids,\n",
    "    encoder_hidden_states=encoder_hidden_states,\n",
    "    encoder_attention_mask=inputs.attention_mask\n",
    ")\n",
    "decoder_hidden_states = decoder_outputs.last_hidden_state  # (batch, dec_seq_len, hidden_size)\n",
    "\n",
    "print(\"Decoder output shape:\", decoder_hidden_states.shape)\n"
   ]
  },
  {
   "cell_type": "code",
   "execution_count": 10,
   "id": "8bc8c56b",
   "metadata": {},
   "outputs": [
    {
     "name": "stderr",
     "output_type": "stream",
     "text": [
      "Asking to truncate to max_length but no maximum length is provided and the model has no predefined maximum length. Default to no truncation.\n"
     ]
    },
    {
     "name": "stdout",
     "output_type": "stream",
     "text": [
      "Input shape: torch.Size([1, 8])\n",
      "Encoder output shape: torch.Size([1, 8, 768])\n",
      "Decoder output shape: torch.Size([1, 1, 768])\n"
     ]
    }
   ],
   "source": [
    "from transformers import BartTokenizer, BartModel\n",
    "import torch\n",
    "\n",
    "tokenizer = BartTokenizer.from_pretrained(\"facebook/bart-base\")\n",
    "model = BartModel.from_pretrained(\"facebook/bart-base\")\n",
    "\n",
    "# 1️⃣ Encode input\n",
    "input_text = \"Hello, how are you?\"\n",
    "inputs = tokenizer(input_text, return_tensors=\"pt\", padding=True, truncation=True)\n",
    "print(\"Input shape:\", inputs.input_ids.shape)\n",
    "\n",
    "# Encoder attention mask (1 for real tokens, 0 for padding)\n",
    "encoder_attention_mask = inputs.attention_mask\n",
    "\n",
    "# Forward pass through encoder\n",
    "encoder_outputs = model.encoder(input_ids=inputs.input_ids, attention_mask=encoder_attention_mask)\n",
    "encoder_hidden_states = encoder_outputs.last_hidden_state  # shape: (batch, seq_len, hidden_size)\n",
    "\n",
    "print(\"Encoder output shape:\", encoder_hidden_states.shape)\n",
    "\n",
    "# 2️⃣ Prepare decoder input (start token </s>)\n",
    "decoder_input_ids = torch.tensor([[tokenizer.eos_token_id]])\n",
    "\n",
    "# Decoder attention mask (for this case — all tokens are real, so 1)\n",
    "decoder_attention_mask = torch.ones_like(decoder_input_ids)\n",
    "\n",
    "# 3️⃣ Decode, passing encoder_hidden_states manually\n",
    "decoder_outputs = model.decoder(\n",
    "    input_ids=decoder_input_ids,\n",
    "    attention_mask=decoder_attention_mask,                   # Self-attention mask for decoder\n",
    "    encoder_hidden_states=encoder_hidden_states,\n",
    "    encoder_attention_mask=encoder_attention_mask            # Cross-attention mask\n",
    ")\n",
    "decoder_hidden_states = decoder_outputs.last_hidden_state  # (batch, dec_seq_len, hidden_size)\n",
    "\n",
    "print(\"Decoder output shape:\", decoder_hidden_states.shape)\n"
   ]
  }
 ],
 "metadata": {
  "kernelspec": {
   "display_name": "lmedr_3",
   "language": "python",
   "name": "python3"
  },
  "language_info": {
   "codemirror_mode": {
    "name": "ipython",
    "version": 3
   },
   "file_extension": ".py",
   "mimetype": "text/x-python",
   "name": "python",
   "nbconvert_exporter": "python",
   "pygments_lexer": "ipython3",
   "version": "3.10.16"
  }
 },
 "nbformat": 4,
 "nbformat_minor": 5
}
