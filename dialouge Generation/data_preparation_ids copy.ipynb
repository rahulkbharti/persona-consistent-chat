{
 "cells": [
  {
   "cell_type": "code",
   "execution_count": 17,
   "id": "acb21ef3",
   "metadata": {},
   "outputs": [
    {
     "name": "stdout",
     "output_type": "stream",
     "text": [
      "                                     user 1 personas  \\\n",
      "0  I just bought a brand new house.\\nI like to da...   \n",
      "1  I am an old man.\\nI have a wheelchair that is ...   \n",
      "2  I met my best friend in kindergarten.\\nI am of...   \n",
      "3  I love having facial hair.\\nI hope to retire s...   \n",
      "4  I love watching movies and tv.\\nI have a husba...   \n",
      "\n",
      "                                     user 2 personas  \\\n",
      "0  I love to meet new people.\\nI have a turtle na...   \n",
      "1  I drive a ford pickup truck.\\nI am very conser...   \n",
      "2  I have two dogs and one cat.\\nI work as a nurs...   \n",
      "3  I am happy being single and alone.\\nI only dri...   \n",
      "4  I am afraid of heights.\\nI love animals and ha...   \n",
      "\n",
      "                         Best Generated Conversation  \n",
      "0  User 1: Hi, I'm [User 1's name]. What's your n...  \n",
      "1  User 1: Hi there!\\nUser 2: Hello.\\nUser 1: I'm...  \n",
      "2  User 1: Hi! What do you do for work?\\nUser 2: ...  \n",
      "3  User 1: How are you doing today?\\nUser 2: I'm ...  \n",
      "4  User 1: Hi there!\\nUser 2: Hi there!\\nUser 1: ...  \n"
     ]
    }
   ],
   "source": [
    "import pandas as pd\n",
    "\n",
    "# Replace 'your_file.csv' with the path to your file\n",
    "file_path = './Synthetic-Persona-Chat/data/Synthetic-Persona-Chat_test.csv'\n",
    "df = pd.read_csv(file_path)\n",
    "\n",
    "# Display the first few rows of the dfframe\n",
    "print(df.head())"
   ]
  },
  {
   "cell_type": "code",
   "execution_count": 103,
   "id": "865c7329",
   "metadata": {},
   "outputs": [
    {
     "data": {
      "text/plain": [
       "[{'user 1 personas': 'I just bought a brand new house.\\nI like to dance at the club.\\nI run a dog obedience school.\\nI have a big sweet tooth.\\nI like taking and posting selkies.',\n",
       "  'user 2 personas': 'I love to meet new people.\\nI have a turtle named timothy.\\nMy favorite sport is ultimate frisbee.\\nMy parents are living in bora bora.\\nAutumn is my favorite season.',\n",
       "  'Best Generated Conversation': \"User 1: Hi, I'm [User 1's name]. What's your name?\\nUser 2: Hi, I'm [User 2's name]. It's nice to meet you.\\nUser 1: Nice to meet you too. What are you interested in?\\nUser 2: I like to meet new people, play ultimate frisbee, and spend time with my family.\\nUser 1: Those are all great things to be interested in. I like to dance at the club, run a dog obedience school, and eat a lot of sweets.\\nUser 2: That's interesting. I've never met anyone who runs a dog obedience school before.\\nUser 1: It's a lot of fun. I get to work with dogs every day and help them learn how to behave.\\nUser 2: That sounds like a great job. I love dogs.\\nUser 1: Me too! They're the best.\\nUser 2: I have a turtle named Timothy. He's my best friend.\\nUser 1: I love turtles! I used to have a turtle when I was a kid.\\nUser 2: That's awesome. What was its name?\\nUser 1: His name was Leonardo. He was a red-eared slider.\\nUser 2: I love the name Leonardo. It's so cool.\\nUser 1: Thanks. I thought so too.\\nUser 2: I'm glad we met. It's nice to talk to someone who likes dogs and turtles.\\nUser 1: Me too. It's always nice to meet someone who has similar interests.\\nUser 2: I hope we can hang out again sometime.\\nUser 1: I'd love that. We can go play ultimate frisbee or get some ice cream.\\nUser 2: That sounds like a plan.\\nUser 1: Great. I'll text you later.\\nUser 2: Sounds good. Bye.\\nUser 1: Bye.\"},\n",
       " {'user 1 personas': 'I am an old man.\\nI have a wheelchair that is modded to go very fast over many terrains.\\nI used to be in the military.\\nI only have one leg.',\n",
       "  'user 2 personas': 'I drive a ford pickup truck.\\nI am very conservative.\\nMy family lives down the street from me.\\nI go to church every sunday.\\nI have three guns and love hunting.',\n",
       "  'Best Generated Conversation': \"User 1: Hi there!\\nUser 2: Hello.\\nUser 1: I'm an old man with one leg. I used to be in the military. My wheelchair is modified to go very fast over many terrains.\\nUser 2: That's interesting. How did you lose your leg?\\nUser 1: I was in a war.\\nUser 2: I'm sorry to hear that.\\nUser 1: It's okay. It was a long time ago.\\nUser 2: What do you do for fun?\\nUser 1: I like to go for walks in my wheelchair. I also like to read and watch TV.\\nUser 2: That sounds nice. I like to go for walks too. I also like to play golf.\\nUser 1: I've never played golf.\\nUser 2: It's a lot of fun. You should try it sometime.\\nUser 1: I might have to.\\nUser 2: You should. It's a great way to get exercise.\\nUser 1: I'm not sure I'm athletic enough.\\nUser 2: You don't have to be athletic to play golf. It's a game of skill.\\nUser 1: I guess I could give it a try.\\nUser 2: I'm sure you'd like it.\\nUser 1: I'll have to see if I can find a golf course near me.\\nUser 2: There's probably one near you. They're pretty common.\\nUser 1: I'll have to look into it.\\nUser 2: You should. It's a great way to meet people too.\\nUser 1: That's a good point.\\nUser 2: I know a lot of people who have made friends through golf.\\nUser 1: I could definitely use some new friends.\\nUser 2: Golf is a great way to make new friends.\\nUser 1: I'll have to give it a try.\"},\n",
       " {'user 1 personas': 'I met my best friend in kindergarten.\\nI am of the jewish faith.\\nI grew up in north dakota.\\nI got a job working in advertising last year.\\nI have traveled and studied abroad.',\n",
       "  'user 2 personas': 'I have two dogs and one cat.\\nI work as a nurses aide in a nursing home.\\nI love to ride my bike.\\nI love caring for people.',\n",
       "  'Best Generated Conversation': \"User 1: Hi! What do you do for work?\\nUser 2: I work as a nurses aide in a nursing home.\\nUser 1: Oh, that's nice! I'm a bit of a hypochondriac, so I'm always looking for people in the medical field to talk to.\\nUser 2: Yeah, I love my job. It's really rewarding to help people.\\nUser 1: I'm sure it is. I have a lot of respect for people in the medical field.\\nUser 2: Thanks! What do you do for fun?\\nUser 1: I like to travel and study abroad. I've been to a lot of different countries.\\nUser 2: Wow, that sounds amazing! I've always wanted to travel, but I just haven't had the chance.\\nUser 1: You should! It's so much fun to experience new cultures and meet new people.\\nUser 2: I'll definitely keep that in mind. Do you have any pets?\\nUser 1: I have two dogs and one cat. They're my best friends.\\nUser 2: That's awesome! I love animals. I have two dogs and one cat too.\\nUser 1: That's so cool! We should get together sometime and let our pets play together.\\nUser 2: That sounds like a great idea! I'm free this weekend if you are.\\nUser 1: This weekend works for me. Let's exchange numbers and we can figure out the details.\\nUser 2: Sounds good\"},\n",
       " {'user 1 personas': 'I love having facial hair.\\nI hope to retire someday soon.\\nI keep things to myself instead of speaking my mind.\\nMy left leg hurts me daily.\\nI love to ride horses.',\n",
       "  'user 2 personas': 'I am happy being single and alone.\\nI only drink water.\\nI work in labor and delivery.\\nI do not want children.',\n",
       "  'Best Generated Conversation': \"User 1: How are you doing today?\\nUser 2: I'm doing well, thank you for asking. How about you?\\nUser 1: I'm doing well too. I'm just a little tired. I have a lot on my mind.\\nUser 2: I'm sorry to hear that. What's on your mind?\\nUser 1: I'm just thinking about my future. I'm not sure what I want to do with my life.\\nUser 2: That's a tough question. But it's important to think about it. What are you interested in?\\nUser 1: I'm interested in a lot of things. I love to ride horses, and I'm also interested in working in labor and delivery.\\nUser 2: That's great! I'm sure you'll find something you love to do.\\nUser 1: I hope so. I'm just not sure where to start.\\nUser 2: Well, you could start by talking to a career counselor. They can help you figure out what you're interested in and what kind of job you might want to pursue.\\nUser 1: That's a great idea. I'll look into it.\\nUser 2: You're welcome. I hope it works out for you.\\nUser 1: Me too. Thanks for listening.\\nUser 2: No problem. I'm always happy to help.\"},\n",
       " {'user 1 personas': 'I love watching movies and tv.\\nI have a husband who i love very much.\\nI do not like exercise or physical activity.\\nMy favorite food is ice cream.\\nI am a homebody.',\n",
       "  'user 2 personas': 'I am afraid of heights.\\nI love animals and have two dogs.\\nI am native american and live in oklahoma.\\nI work as an attorney.\\nI am not religious.',\n",
       "  'Best Generated Conversation': 'User 1: Hi there!\\nUser 2: Hi there!\\nUser 1: What do you like to do for fun?\\nUser 2: I love animals, and I have two dogs.\\nUser 1: That\\'s great! I love animals too. I have a cat.\\nUser 2: Oh, nice! What\\'s your cat\\'s name?\\nUser 1: Her name is Mittens.\\nUser 2: That\\'s a cute name.\\nUser 1: Thanks! What do you like to do with your dogs?\\nUser 2: I like to take them for walks, play fetch with them, and cuddle with them.\\nUser 1: That sounds like a lot of fun.\\nUser 2: It is! I love spending time with my dogs.\\nUser 1: What else do you like to do?\\nUser 2: I like to watch movies and TV shows. I also like to read books.\\nUser 1: That\\'s cool! I like to do those things too.\\nUser 2: What are some of your favorite movies and TV shows?\\nUser 1: I like to watch a lot of different kinds of movies and TV shows. Some of my favorites are \"The Office\", \"The Simpsons\", \"Game of Thrones\", and \"The Lord of the Rings\".\\nUser 2: Those are all great shows! I\\'ve seen most of them.\\nUser 1: Have you seen any good movies lately?\\nUser 2: I just saw \"The Batman\". It was really good.\\nUser 1: I\\'ve heard good things about it. I\\'ll have to check it out.\\nUser 2: You should! It\\'s a really good movie.\\nUser 1: Thanks for the recommendation!\\nUser 2: No problem!'}]"
      ]
     },
     "execution_count": 103,
     "metadata": {},
     "output_type": "execute_result"
    }
   ],
   "source": [
    "data_list = df.to_dict(orient='records')\n",
    "data_list[0:5]"
   ]
  },
  {
   "cell_type": "code",
   "execution_count": 104,
   "id": "000d32db",
   "metadata": {},
   "outputs": [],
   "source": [
    "data_list = [{\"persona\":instance[\"user 1 personas\"],\"conversation\":instance[\"Best Generated Conversation\"]} for instance in data_list]"
   ]
  },
  {
   "cell_type": "code",
   "execution_count": 55,
   "id": "2fe0b6f2",
   "metadata": {},
   "outputs": [
    {
     "data": {
      "text/plain": [
       "4"
      ]
     },
     "execution_count": 55,
     "metadata": {},
     "output_type": "execute_result"
    }
   ],
   "source": [
    "from transformers import BartTokenizer\n",
    "tokenizer = BartTokenizer.from_pretrained(\"facebook/bart-large\")\n",
    "add_special_tokens = {'additional_special_tokens': ['<query>', '<response>', '<latent>', '<persona>']}\n",
    "tokenizer.add_special_tokens(add_special_tokens)"
   ]
  },
  {
   "cell_type": "code",
   "execution_count": 56,
   "id": "85a6767b",
   "metadata": {},
   "outputs": [],
   "source": [
    "args = {\n",
    "   \"num_latent\": 10,\n",
    "   \"num_latent2\": 10,\n",
    "}"
   ]
  },
  {
   "cell_type": "code",
   "execution_count": 57,
   "id": "672b34d0",
   "metadata": {},
   "outputs": [],
   "source": [
    "encoded_tokens = tokenizer.encode(add_special_tokens['additional_special_tokens'])\n",
    "args['bos'], args[\"query\"], args[\"response\"], args[\"latent\"], args[\"persona\"], args[\"eos\"] = encoded_tokens\n",
    "args[\"pad\"] = 1"
   ]
  },
  {
   "cell_type": "code",
   "execution_count": 58,
   "id": "0cf0c6e4",
   "metadata": {},
   "outputs": [
    {
     "data": {
      "text/plain": [
       "{'num_latent': 10,\n",
       " 'num_latent2': 10,\n",
       " 'bos': 0,\n",
       " 'query': 50265,\n",
       " 'response': 50266,\n",
       " 'latent': 50267,\n",
       " 'persona': 50268,\n",
       " 'eos': 2,\n",
       " 'pad': 1}"
      ]
     },
     "execution_count": 58,
     "metadata": {},
     "output_type": "execute_result"
    }
   ],
   "source": [
    "args"
   ]
  },
  {
   "cell_type": "code",
   "execution_count": 105,
   "id": "52f539db",
   "metadata": {},
   "outputs": [
    {
     "name": "stdout",
     "output_type": "stream",
     "text": [
      "Error in instance: {'persona': ['I love playing video games.', 'Hey there my name is jordan and i am a veterinarian.', 'I am also a musician on the weekends.', 'Love to read drama books.'], 'conversation': nan}\n",
      "Error in instance index: 510\n",
      "Exception: 'float' object has no attribute 'split'\n"
     ]
    }
   ],
   "source": [
    "for i, instance in enumerate(data_list):\n",
    "    try:\n",
    "        instance[\"persona\"] = instance[\"persona\"].split(\"\\n\")\n",
    "        instance[\"conversation\"] = instance[\"conversation\"].split(\"\\n\")\n",
    "        instance[\"persona\"] = [p.strip() for p in instance[\"persona\"] if p.strip()]\n",
    "        instance[\"conversation\"] = [c.strip() for c in instance[\"conversation\"] if c.strip()]\n",
    "\n",
    "        instance[\"conversation\"] = [c.replace(\"User 1:\", \"\") for c in instance[\"conversation\"]]\n",
    "        instance[\"conversation\"] = [c.replace(\"User 2:\", \"\").strip() for c in instance[\"conversation\"]]\n",
    "    except Exception as e:\n",
    "        print(\"Error in instance:\", instance)\n",
    "        print(\"Error in instance index:\", i)\n",
    "        print(\"Exception:\", e)\n",
    "        continue"
   ]
  },
  {
   "cell_type": "code",
   "execution_count": 106,
   "id": "d4bfd7d2",
   "metadata": {},
   "outputs": [
    {
     "data": {
      "text/plain": [
       "{'persona': ['I love playing video games.',\n",
       "  'Hey there my name is jordan and i am a veterinarian.',\n",
       "  'I am also a musician on the weekends.',\n",
       "  'Love to read drama books.'],\n",
       " 'conversation': nan}"
      ]
     },
     "execution_count": 106,
     "metadata": {},
     "output_type": "execute_result"
    }
   ],
   "source": [
    "data_list[510]"
   ]
  },
  {
   "cell_type": "code",
   "execution_count": 108,
   "id": "8dc0097c",
   "metadata": {},
   "outputs": [
    {
     "data": {
      "text/plain": [
       "{'persona': ['I run to relieve stress.',\n",
       "  'I am learning jujitsu but am still new to it.',\n",
       "  'I am taking college and hoping to be a teacher.',\n",
       "  'Poker is my favorite card game.',\n",
       "  'I am a huge ed sheeran fan.'],\n",
       " 'conversation': ['What do you do for fun?',\n",
       "  \"I love to read fantasy books. I've been reading the Lord of the Rings series recently.\",\n",
       "  \"Oh, I love the Lord of the Rings! I've read the books and seen the movies.\",\n",
       "  'Me too! The books are so much better than the movies, though.',\n",
       "  'I agree. The books have so much more detail and world-building.',\n",
       "  \"What's your favorite part of the books?\",\n",
       "  \"I love the characters. They're so well-developed and relatable.\",\n",
       "  \"Me too! I also love the story. It's so epic and inspiring.\",\n",
       "  \"I agree. It's one of my favorite books of all time.\",\n",
       "  \"Me too! I'm so glad I met someone who loves the Lord of the Rings as much as I do.\",\n",
       "  \"Me too! It's always nice to meet a fellow fan.\",\n",
       "  'So, what other hobbies do you have?',\n",
       "  'I also like to run and play poker.',\n",
       "  \"Running is a great way to relieve stress. I've never played poker, but it looks like a lot of fun.\",\n",
       "  'It is! I like to play poker with my friends.',\n",
       "  \"I'm going to have to try it sometime.\",\n",
       "  \"You should! It's a lot of fun.\",\n",
       "  'Thanks for the suggestion.',\n",
       "  'No problem.']}"
      ]
     },
     "execution_count": 108,
     "metadata": {},
     "output_type": "execute_result"
    }
   ],
   "source": [
    "data_list.pop(510)"
   ]
  },
  {
   "cell_type": "code",
   "execution_count": 110,
   "id": "05b36744",
   "metadata": {},
   "outputs": [
    {
     "data": {
      "text/plain": [
       "{'persona': ['I just bought a brand new house.',\n",
       "  'I like to dance at the club.',\n",
       "  'I run a dog obedience school.',\n",
       "  'I have a big sweet tooth.',\n",
       "  'I like taking and posting selkies.'],\n",
       " 'conversation': [\"Hi, I'm [User 1's name]. What's your name?\",\n",
       "  \"Hi, I'm [User 2's name]. It's nice to meet you.\",\n",
       "  'Nice to meet you too. What are you interested in?',\n",
       "  'I like to meet new people, play ultimate frisbee, and spend time with my family.',\n",
       "  'Those are all great things to be interested in. I like to dance at the club, run a dog obedience school, and eat a lot of sweets.',\n",
       "  \"That's interesting. I've never met anyone who runs a dog obedience school before.\",\n",
       "  \"It's a lot of fun. I get to work with dogs every day and help them learn how to behave.\",\n",
       "  'That sounds like a great job. I love dogs.',\n",
       "  \"Me too! They're the best.\",\n",
       "  \"I have a turtle named Timothy. He's my best friend.\",\n",
       "  'I love turtles! I used to have a turtle when I was a kid.',\n",
       "  \"That's awesome. What was its name?\",\n",
       "  'His name was Leonardo. He was a red-eared slider.',\n",
       "  \"I love the name Leonardo. It's so cool.\",\n",
       "  'Thanks. I thought so too.',\n",
       "  \"I'm glad we met. It's nice to talk to someone who likes dogs and turtles.\",\n",
       "  \"Me too. It's always nice to meet someone who has similar interests.\",\n",
       "  'I hope we can hang out again sometime.',\n",
       "  \"I'd love that. We can go play ultimate frisbee or get some ice cream.\",\n",
       "  'That sounds like a plan.',\n",
       "  \"Great. I'll text you later.\",\n",
       "  'Sounds good. Bye.',\n",
       "  'Bye.']}"
      ]
     },
     "execution_count": 110,
     "metadata": {},
     "output_type": "execute_result"
    }
   ],
   "source": [
    "data_list[0]"
   ]
  },
  {
   "cell_type": "code",
   "execution_count": null,
   "id": "d2dad9b0",
   "metadata": {},
   "outputs": [],
   "source": [
    "data_ids = [\n",
    "    {\n",
    "        \"persona\":[tokenizer.encode(persona) for persona in instance['persona']],\n",
    "        \"conversation\":[tokenizer.encode(utterance) for utterance in instance['conversation']]\n",
    "    }\n",
    "    \n",
    "    for instance in data_list\n",
    "]"
   ]
  },
  {
   "cell_type": "code",
   "execution_count": 113,
   "id": "45437b5d",
   "metadata": {},
   "outputs": [],
   "source": [
    "for dat in data_ids:\n",
    "    for persona in dat['persona']:\n",
    "       persona.pop(0)"
   ]
  },
  {
   "cell_type": "code",
   "execution_count": 118,
   "id": "586d59b7",
   "metadata": {},
   "outputs": [],
   "source": [
    "for dat in data_ids:\n",
    "    for i,utter in enumerate(dat['conversation']):\n",
    "        if i % 2 == 0:\n",
    "            utter[0] = args[\"query\"]\n",
    "        else:\n",
    "            utter[0] = args[\"response\"]"
   ]
  },
  {
   "cell_type": "code",
   "execution_count": 119,
   "id": "52b5db59",
   "metadata": {},
   "outputs": [
    {
     "data": {
      "text/plain": [
       "{'persona': [[100, 95, 2162, 10, 1518, 92, 790, 4, 2],\n",
       "  [100, 101, 7, 3836, 23, 5, 950, 4, 2],\n",
       "  [100, 422, 10, 2335, 41227, 334, 4, 2],\n",
       "  [100, 33, 10, 380, 4045, 13495, 4, 2],\n",
       "  [100, 101, 602, 8, 6016, 842, 462, 16731, 4, 2]],\n",
       " 'conversation': [[50265,\n",
       "   30086,\n",
       "   6,\n",
       "   38,\n",
       "   437,\n",
       "   646,\n",
       "   44518,\n",
       "   112,\n",
       "   18,\n",
       "   766,\n",
       "   8174,\n",
       "   653,\n",
       "   18,\n",
       "   110,\n",
       "   766,\n",
       "   116,\n",
       "   2],\n",
       "  [50266,\n",
       "   30086,\n",
       "   6,\n",
       "   38,\n",
       "   437,\n",
       "   646,\n",
       "   44518,\n",
       "   132,\n",
       "   18,\n",
       "   766,\n",
       "   8174,\n",
       "   85,\n",
       "   18,\n",
       "   2579,\n",
       "   7,\n",
       "   972,\n",
       "   47,\n",
       "   4,\n",
       "   2],\n",
       "  [50265, 41541, 7, 972, 47, 350, 4, 653, 32, 47, 2509, 11, 116, 2],\n",
       "  [50266,\n",
       "   100,\n",
       "   101,\n",
       "   7,\n",
       "   972,\n",
       "   92,\n",
       "   82,\n",
       "   6,\n",
       "   310,\n",
       "   7017,\n",
       "   6664,\n",
       "   354,\n",
       "   14650,\n",
       "   6,\n",
       "   8,\n",
       "   1930,\n",
       "   86,\n",
       "   19,\n",
       "   127,\n",
       "   284,\n",
       "   4,\n",
       "   2],\n",
       "  [50265,\n",
       "   11195,\n",
       "   32,\n",
       "   70,\n",
       "   372,\n",
       "   383,\n",
       "   7,\n",
       "   28,\n",
       "   2509,\n",
       "   11,\n",
       "   4,\n",
       "   38,\n",
       "   101,\n",
       "   7,\n",
       "   3836,\n",
       "   23,\n",
       "   5,\n",
       "   950,\n",
       "   6,\n",
       "   422,\n",
       "   10,\n",
       "   2335,\n",
       "   41227,\n",
       "   334,\n",
       "   6,\n",
       "   8,\n",
       "   3529,\n",
       "   10,\n",
       "   319,\n",
       "   9,\n",
       "   29842,\n",
       "   4,\n",
       "   2],\n",
       "  [50266,\n",
       "   1711,\n",
       "   18,\n",
       "   2679,\n",
       "   4,\n",
       "   38,\n",
       "   348,\n",
       "   393,\n",
       "   1145,\n",
       "   1268,\n",
       "   54,\n",
       "   1237,\n",
       "   10,\n",
       "   2335,\n",
       "   41227,\n",
       "   334,\n",
       "   137,\n",
       "   4,\n",
       "   2],\n",
       "  [50265,\n",
       "   243,\n",
       "   18,\n",
       "   10,\n",
       "   319,\n",
       "   9,\n",
       "   1531,\n",
       "   4,\n",
       "   38,\n",
       "   120,\n",
       "   7,\n",
       "   173,\n",
       "   19,\n",
       "   3678,\n",
       "   358,\n",
       "   183,\n",
       "   8,\n",
       "   244,\n",
       "   106,\n",
       "   1532,\n",
       "   141,\n",
       "   7,\n",
       "   18871,\n",
       "   4,\n",
       "   2],\n",
       "  [50266, 1711, 4428, 101, 10, 372, 633, 4, 38, 657, 3678, 4, 2],\n",
       "  [50265, 5096, 350, 328, 252, 214, 5, 275, 4, 2],\n",
       "  [50266, 100, 33, 10, 28522, 1440, 12134, 4, 91, 18, 127, 275, 1441, 4, 2],\n",
       "  [50265,\n",
       "   100,\n",
       "   657,\n",
       "   27756,\n",
       "   328,\n",
       "   38,\n",
       "   341,\n",
       "   7,\n",
       "   33,\n",
       "   10,\n",
       "   28522,\n",
       "   77,\n",
       "   38,\n",
       "   21,\n",
       "   10,\n",
       "   4607,\n",
       "   4,\n",
       "   2],\n",
       "  [50266, 1711, 18, 6344, 4, 653, 21, 63, 766, 116, 2],\n",
       "  [50265, 9962, 766, 21, 20683, 4, 91, 21, 10, 1275, 12, 24845, 29432, 4, 2],\n",
       "  [50266, 100, 657, 5, 766, 20683, 4, 85, 18, 98, 3035, 4, 2],\n",
       "  [50265, 22086, 4, 38, 802, 98, 350, 4, 2],\n",
       "  [50266,\n",
       "   100,\n",
       "   437,\n",
       "   7785,\n",
       "   52,\n",
       "   1145,\n",
       "   4,\n",
       "   85,\n",
       "   18,\n",
       "   2579,\n",
       "   7,\n",
       "   1067,\n",
       "   7,\n",
       "   951,\n",
       "   54,\n",
       "   3829,\n",
       "   3678,\n",
       "   8,\n",
       "   27756,\n",
       "   4,\n",
       "   2],\n",
       "  [50265,\n",
       "   5096,\n",
       "   350,\n",
       "   4,\n",
       "   85,\n",
       "   18,\n",
       "   460,\n",
       "   2579,\n",
       "   7,\n",
       "   972,\n",
       "   951,\n",
       "   54,\n",
       "   34,\n",
       "   1122,\n",
       "   3168,\n",
       "   4,\n",
       "   2],\n",
       "  [50266, 100, 1034, 52, 64, 6713, 66, 456, 11133, 4, 2],\n",
       "  [50265,\n",
       "   100,\n",
       "   1017,\n",
       "   657,\n",
       "   14,\n",
       "   4,\n",
       "   166,\n",
       "   64,\n",
       "   213,\n",
       "   310,\n",
       "   7017,\n",
       "   6664,\n",
       "   354,\n",
       "   14650,\n",
       "   50,\n",
       "   120,\n",
       "   103,\n",
       "   2480,\n",
       "   6353,\n",
       "   4,\n",
       "   2],\n",
       "  [50266, 1711, 4428, 101, 10, 563, 4, 2],\n",
       "  [50265, 19065, 4, 38, 581, 2788, 47, 423, 4, 2],\n",
       "  [50266, 45953, 205, 4, 36255, 4, 2],\n",
       "  [50265, 2765, 242, 4, 2]]}"
      ]
     },
     "execution_count": 119,
     "metadata": {},
     "output_type": "execute_result"
    }
   ],
   "source": [
    "data_ids[0]"
   ]
  },
  {
   "cell_type": "code",
   "execution_count": 128,
   "id": "f06b96ea",
   "metadata": {},
   "outputs": [],
   "source": [
    "def get_history_windows(data, window_size=5):\n",
    "    history_windows = []\n",
    "\n",
    "    for i in range(len(data)):\n",
    "        if data[i][0] == args[\"query\"]:\n",
    "            window = []\n",
    "            # add the query itself first\n",
    "            window.append(data[i])\n",
    "\n",
    "            # move backwards and collect previous turns (up to window_size)\n",
    "            j = i - 1\n",
    "            while j >= 0 and len(window) < window_size:\n",
    "                window.insert(0, data[j])\n",
    "                j -= 1\n",
    "            \n",
    "            history_windows.append(window)\n",
    "\n",
    "    return history_windows"
   ]
  },
  {
   "cell_type": "code",
   "execution_count": 129,
   "id": "e3854066",
   "metadata": {},
   "outputs": [
    {
     "name": "stdout",
     "output_type": "stream",
     "text": [
      "[50265, 30086, 6, 38, 437, 646, 44518, 112, 18, 766, 8174, 653, 18, 110, 766, 116, 2]\n",
      "<query> Hi, I'm [User 1's name]. What's your name?</s>\n",
      "[50265, 30086, 6, 38, 437, 646, 44518, 112, 18, 766, 8174, 653, 18, 110, 766, 116, 2, 50266, 30086, 6, 38, 437, 646, 44518, 132, 18, 766, 8174, 85, 18, 2579, 7, 972, 47, 4, 2, 50265, 41541, 7, 972, 47, 350, 4, 653, 32, 47, 2509, 11, 116, 2]\n",
      "<query> Hi, I'm [User 1's name]. What's your name?</s> <response> Hi, I'm [User 2's name]. It's nice to meet you.</s> <query> Nice to meet you too. What are you interested in?</s>\n",
      "[50265, 30086, 6, 38, 437, 646, 44518, 112, 18, 766, 8174, 653, 18, 110, 766, 116, 2, 50266, 30086, 6, 38, 437, 646, 44518, 132, 18, 766, 8174, 85, 18, 2579, 7, 972, 47, 4, 2, 50265, 41541, 7, 972, 47, 350, 4, 653, 32, 47, 2509, 11, 116, 2, 50266, 100, 101, 7, 972, 92, 82, 6, 310, 7017, 6664, 354, 14650, 6, 8, 1930, 86, 19, 127, 284, 4, 2, 50265, 11195, 32, 70, 372, 383, 7, 28, 2509, 11, 4, 38, 101, 7, 3836, 23, 5, 950, 6, 422, 10, 2335, 41227, 334, 6, 8, 3529, 10, 319, 9, 29842, 4, 2]\n",
      "<query> Hi, I'm [User 1's name]. What's your name?</s> <response> Hi, I'm [User 2's name]. It's nice to meet you.</s> <query> Nice to meet you too. What are you interested in?</s> <response> I like to meet new people, play ultimate frisbee, and spend time with my family.</s> <query> Those are all great things to be interested in. I like to dance at the club, run a dog obedience school, and eat a lot of sweets.</s>\n",
      "[50265, 41541, 7, 972, 47, 350, 4, 653, 32, 47, 2509, 11, 116, 2, 50266, 100, 101, 7, 972, 92, 82, 6, 310, 7017, 6664, 354, 14650, 6, 8, 1930, 86, 19, 127, 284, 4, 2, 50265, 11195, 32, 70, 372, 383, 7, 28, 2509, 11, 4, 38, 101, 7, 3836, 23, 5, 950, 6, 422, 10, 2335, 41227, 334, 6, 8, 3529, 10, 319, 9, 29842, 4, 2, 50266, 1711, 18, 2679, 4, 38, 348, 393, 1145, 1268, 54, 1237, 10, 2335, 41227, 334, 137, 4, 2, 50265, 243, 18, 10, 319, 9, 1531, 4, 38, 120, 7, 173, 19, 3678, 358, 183, 8, 244, 106, 1532, 141, 7, 18871, 4, 2]\n",
      "<query> Nice to meet you too. What are you interested in?</s> <response> I like to meet new people, play ultimate frisbee, and spend time with my family.</s> <query> Those are all great things to be interested in. I like to dance at the club, run a dog obedience school, and eat a lot of sweets.</s> <response> That's interesting. I've never met anyone who runs a dog obedience school before.</s> <query> It's a lot of fun. I get to work with dogs every day and help them learn how to behave.</s>\n",
      "[50265, 11195, 32, 70, 372, 383, 7, 28, 2509, 11, 4, 38, 101, 7, 3836, 23, 5, 950, 6, 422, 10, 2335, 41227, 334, 6, 8, 3529, 10, 319, 9, 29842, 4, 2, 50266, 1711, 18, 2679, 4, 38, 348, 393, 1145, 1268, 54, 1237, 10, 2335, 41227, 334, 137, 4, 2, 50265, 243, 18, 10, 319, 9, 1531, 4, 38, 120, 7, 173, 19, 3678, 358, 183, 8, 244, 106, 1532, 141, 7, 18871, 4, 2, 50266, 1711, 4428, 101, 10, 372, 633, 4, 38, 657, 3678, 4, 2, 50265, 5096, 350, 328, 252, 214, 5, 275, 4, 2]\n",
      "<query> Those are all great things to be interested in. I like to dance at the club, run a dog obedience school, and eat a lot of sweets.</s> <response> That's interesting. I've never met anyone who runs a dog obedience school before.</s> <query> It's a lot of fun. I get to work with dogs every day and help them learn how to behave.</s> <response> That sounds like a great job. I love dogs.</s> <query> Me too! They're the best.</s>\n",
      "[50265, 243, 18, 10, 319, 9, 1531, 4, 38, 120, 7, 173, 19, 3678, 358, 183, 8, 244, 106, 1532, 141, 7, 18871, 4, 2, 50266, 1711, 4428, 101, 10, 372, 633, 4, 38, 657, 3678, 4, 2, 50265, 5096, 350, 328, 252, 214, 5, 275, 4, 2, 50266, 100, 33, 10, 28522, 1440, 12134, 4, 91, 18, 127, 275, 1441, 4, 2, 50265, 100, 657, 27756, 328, 38, 341, 7, 33, 10, 28522, 77, 38, 21, 10, 4607, 4, 2]\n",
      "<query> It's a lot of fun. I get to work with dogs every day and help them learn how to behave.</s> <response> That sounds like a great job. I love dogs.</s> <query> Me too! They're the best.</s> <response> I have a turtle named Timothy. He's my best friend.</s> <query> I love turtles! I used to have a turtle when I was a kid.</s>\n",
      "[50265, 5096, 350, 328, 252, 214, 5, 275, 4, 2, 50266, 100, 33, 10, 28522, 1440, 12134, 4, 91, 18, 127, 275, 1441, 4, 2, 50265, 100, 657, 27756, 328, 38, 341, 7, 33, 10, 28522, 77, 38, 21, 10, 4607, 4, 2, 50266, 1711, 18, 6344, 4, 653, 21, 63, 766, 116, 2, 50265, 9962, 766, 21, 20683, 4, 91, 21, 10, 1275, 12, 24845, 29432, 4, 2]\n",
      "<query> Me too! They're the best.</s> <response> I have a turtle named Timothy. He's my best friend.</s> <query> I love turtles! I used to have a turtle when I was a kid.</s> <response> That's awesome. What was its name?</s> <query> His name was Leonardo. He was a red-eared slider.</s>\n",
      "[50265, 100, 657, 27756, 328, 38, 341, 7, 33, 10, 28522, 77, 38, 21, 10, 4607, 4, 2, 50266, 1711, 18, 6344, 4, 653, 21, 63, 766, 116, 2, 50265, 9962, 766, 21, 20683, 4, 91, 21, 10, 1275, 12, 24845, 29432, 4, 2, 50266, 100, 657, 5, 766, 20683, 4, 85, 18, 98, 3035, 4, 2, 50265, 22086, 4, 38, 802, 98, 350, 4, 2]\n",
      "<query> I love turtles! I used to have a turtle when I was a kid.</s> <response> That's awesome. What was its name?</s> <query> His name was Leonardo. He was a red-eared slider.</s> <response> I love the name Leonardo. It's so cool.</s> <query> Thanks. I thought so too.</s>\n",
      "[50265, 9962, 766, 21, 20683, 4, 91, 21, 10, 1275, 12, 24845, 29432, 4, 2, 50266, 100, 657, 5, 766, 20683, 4, 85, 18, 98, 3035, 4, 2, 50265, 22086, 4, 38, 802, 98, 350, 4, 2, 50266, 100, 437, 7785, 52, 1145, 4, 85, 18, 2579, 7, 1067, 7, 951, 54, 3829, 3678, 8, 27756, 4, 2, 50265, 5096, 350, 4, 85, 18, 460, 2579, 7, 972, 951, 54, 34, 1122, 3168, 4, 2]\n",
      "<query> His name was Leonardo. He was a red-eared slider.</s> <response> I love the name Leonardo. It's so cool.</s> <query> Thanks. I thought so too.</s> <response> I'm glad we met. It's nice to talk to someone who likes dogs and turtles.</s> <query> Me too. It's always nice to meet someone who has similar interests.</s>\n",
      "[50265, 22086, 4, 38, 802, 98, 350, 4, 2, 50266, 100, 437, 7785, 52, 1145, 4, 85, 18, 2579, 7, 1067, 7, 951, 54, 3829, 3678, 8, 27756, 4, 2, 50265, 5096, 350, 4, 85, 18, 460, 2579, 7, 972, 951, 54, 34, 1122, 3168, 4, 2, 50266, 100, 1034, 52, 64, 6713, 66, 456, 11133, 4, 2, 50265, 100, 1017, 657, 14, 4, 166, 64, 213, 310, 7017, 6664, 354, 14650, 50, 120, 103, 2480, 6353, 4, 2]\n",
      "<query> Thanks. I thought so too.</s> <response> I'm glad we met. It's nice to talk to someone who likes dogs and turtles.</s> <query> Me too. It's always nice to meet someone who has similar interests.</s> <response> I hope we can hang out again sometime.</s> <query> I'd love that. We can go play ultimate frisbee or get some ice cream.</s>\n",
      "[50265, 5096, 350, 4, 85, 18, 460, 2579, 7, 972, 951, 54, 34, 1122, 3168, 4, 2, 50266, 100, 1034, 52, 64, 6713, 66, 456, 11133, 4, 2, 50265, 100, 1017, 657, 14, 4, 166, 64, 213, 310, 7017, 6664, 354, 14650, 50, 120, 103, 2480, 6353, 4, 2, 50266, 1711, 4428, 101, 10, 563, 4, 2, 50265, 19065, 4, 38, 581, 2788, 47, 423, 4, 2]\n",
      "<query> Me too. It's always nice to meet someone who has similar interests.</s> <response> I hope we can hang out again sometime.</s> <query> I'd love that. We can go play ultimate frisbee or get some ice cream.</s> <response> That sounds like a plan.</s> <query> Great. I'll text you later.</s>\n",
      "[50265, 100, 1017, 657, 14, 4, 166, 64, 213, 310, 7017, 6664, 354, 14650, 50, 120, 103, 2480, 6353, 4, 2, 50266, 1711, 4428, 101, 10, 563, 4, 2, 50265, 19065, 4, 38, 581, 2788, 47, 423, 4, 2, 50266, 45953, 205, 4, 36255, 4, 2, 50265, 2765, 242, 4, 2]\n",
      "<query> I'd love that. We can go play ultimate frisbee or get some ice cream.</s> <response> That sounds like a plan.</s> <query> Great. I'll text you later.</s> <response> Sounds good. Bye.</s> <query> Bye.</s>\n"
     ]
    }
   ],
   "source": [
    "from itertools import chain\n",
    "\n",
    "for l in get_history_windows(data_ids[0]['conversation']):\n",
    "    # print(l)\n",
    "    ids = list(chain.from_iterable(l))\n",
    "    print(ids)\n",
    "    print(tokenizer.decode(ids))\n",
    "    # break"
   ]
  },
  {
   "cell_type": "code",
   "execution_count": 132,
   "id": "d2e56210",
   "metadata": {},
   "outputs": [
    {
     "data": {
      "text/plain": [
       "'I just bought a brand new house.</s>I like to dance at the club.</s>I run a dog obedience school.</s>I have a big sweet tooth.</s>I like taking and posting selkies.</s>'"
      ]
     },
     "execution_count": 132,
     "metadata": {},
     "output_type": "execute_result"
    }
   ],
   "source": [
    "tokenizer.decode(list(chain.from_iterable(data_ids[0]['persona'])))\n"
   ]
  },
  {
   "cell_type": "code",
   "execution_count": null,
   "id": "8eaf737f",
   "metadata": {},
   "outputs": [],
   "source": [
    "# args['bos'], args[\"query\"], args[\"response\"], args[\"latent\"], args[\"persona\"], args[\"eos\"] "
   ]
  },
  {
   "cell_type": "code",
   "execution_count": 138,
   "id": "8c399c27",
   "metadata": {},
   "outputs": [],
   "source": [
    "train_data = [\n",
    "    [args[\"latent\"],args[\"persona\"]] + list(chain.from_iterable(instance['persona'])) + list(chain.from_iterable(instance['conversation']))\n",
    "    for instance in data_ids\n",
    "]"
   ]
  }
 ],
 "metadata": {
  "kernelspec": {
   "display_name": "lmedr_3",
   "language": "python",
   "name": "python3"
  },
  "language_info": {
   "codemirror_mode": {
    "name": "ipython",
    "version": 3
   },
   "file_extension": ".py",
   "mimetype": "text/x-python",
   "name": "python",
   "nbconvert_exporter": "python",
   "pygments_lexer": "ipython3",
   "version": "3.10.16"
  }
 },
 "nbformat": 4,
 "nbformat_minor": 5
}
