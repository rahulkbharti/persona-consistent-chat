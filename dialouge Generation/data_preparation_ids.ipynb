{
 "cells": [
  {
   "cell_type": "code",
   "execution_count": 1,
   "id": "acb21ef3",
   "metadata": {},
   "outputs": [
    {
     "name": "stdout",
     "output_type": "stream",
     "text": [
      "                                     user 1 personas  \\\n",
      "0  I am 32.\\nI do not want a job.\\nI play video g...   \n",
      "1  I am 32.\\nI play video games all day.\\nI still...   \n",
      "2  I am 32.\\nI play video games all day.\\nI still...   \n",
      "3  I write.\\nI work at mcdonald s.\\nI watch youtu...   \n",
      "4  I am bald.\\nI like to swim.\\nMy favorite drink...   \n",
      "\n",
      "                                     user 2 personas  \\\n",
      "0  My favorite drink is iced coffee.\\nI have a bl...   \n",
      "1  I have a ford f150.\\nI like ford cars.\\nMy tru...   \n",
      "2  I can recite the movie young frankenstein word...   \n",
      "3  I want to move.\\nI don t like feeling controll...   \n",
      "4  My favorite store is american eagle.\\nI enjoy ...   \n",
      "\n",
      "                         Best Generated Conversation  \n",
      "0  User 1: Hi! I'm [user 1's name].\\nUser 2: Hi [...  \n",
      "1  User 1: Hey, how's it going?\\nUser 2: Good, I'...  \n",
      "2  User 1: Hi, my name is John. What's your name?...  \n",
      "3  User 1: Hi!\\nUser 2: Hey!\\nUser 1: What's up?\\...  \n",
      "4  User 1: Hello!\\nUser 2: Hi!\\nUser 1: What do y...  \n"
     ]
    }
   ],
   "source": [
    "import pandas as pd\n",
    "\n",
    "# Replace 'your_file.csv' with the path to your file\n",
    "file_path = './Synthetic-Persona-Chat/data/Synthetic-Persona-Chat_train.csv'\n",
    "df = pd.read_csv(file_path)\n",
    "\n",
    "# Display the first few rows of the dfframe\n",
    "print(df.head())"
   ]
  },
  {
   "cell_type": "code",
   "execution_count": 2,
   "id": "865c7329",
   "metadata": {},
   "outputs": [
    {
     "data": {
      "text/plain": [
       "[{'user 1 personas': 'I am 32.\\nI do not want a job.\\nI play video games all day.\\nI still live at home with my parents.',\n",
       "  'user 2 personas': 'My favorite drink is iced coffee.\\nI have a black belt in karate.\\nI m in a jazz band and play the saxophone.\\nI vacation along lake michigan every summer.',\n",
       "  'Best Generated Conversation': \"User 1: Hi! I'm [user 1's name].\\nUser 2: Hi [user 1's name], I'm [user 2's name].\\nUser 1: What do you do for fun?\\nUser 2: I like to play video games, go to the beach, and read.\\nUser 1: I like to play video games too! I'm not much of a reader, though.\\nUser 2: What video games do you like to play?\\nUser 1: I like to play a lot of different games, but I'm really into competitive online games right now.\\nUser 2: I'm not really into competitive games, I like to play more relaxing games.\\nUser 1: That's cool. What kind of relaxing games do you like to play?\\nUser 2: I like to play puzzle games, simulation games, and story-based games.\\nUser 1: I've never been much of a puzzle game person, but I do like simulation games and story-based games.\\nUser 2: Nice! What's your favorite simulation game?\\nUser 1: I like Stardew Valley a lot. It's a farming game, but it's also really relaxing and fun.\\nUser 2: I've heard good things about that game. I might have to check it out.\\nUser 1: You should! It's a lot of fun.\\nUser 2: Well, I'm glad we met. Maybe we can play some games together sometime.\\nUser 1: That would be fun!\\nUser 2: Great! I'll send you my Steam name.\\nUser 1: Ok, sounds good.\"},\n",
       " {'user 1 personas': 'I am 32.\\nI play video games all day.\\nI still live at home with my parents.\\nI do not want a job.',\n",
       "  'user 2 personas': 'I have a ford f150.\\nI like ford cars.\\nMy truck is black.\\nI also like ford trucks.\\nI own a ford truck.',\n",
       "  'Best Generated Conversation': \"User 1: Hey, how's it going?\\nUser 2: Good, I'm just hanging out.\\nUser 1: Nice. Me too. I'm playing video games.\\nUser 2: Oh, cool. I like video games. What are you playing?\\nUser 1: I'm playing Call of Duty: Warzone.\\nUser 2: Oh, I've never played that one. What's it like?\\nUser 1: It's a battle royale game. You drop into a map with 150 other players and you have to be the last one standing.\\nUser 2: Oh, that sounds fun. I'll have to check it out.\\nUser 1: You should. It's a lot of fun.\\nUser 2: So, what else do you like to do?\\nUser 1: I like to watch movies and TV shows.\\nUser 2: Me too. What kind of movies and TV shows do you like?\\nUser 1: I like action movies and TV shows. I also like comedy movies and TV shows.\\nUser 2: Me too. I love action movies and TV shows.\\nUser 1: So, what are some of your favorite movies and TV shows?\\nUser 2: I love the Fast and Furious movies. I also love the Marvel Cinematic Universe.\\nUser 1: Me too! I love the Fast and Furious movies and the Marvel Cinematic Universe.\\nUser 2: What are your favorite TV shows?\\nUser 1: I love The Walking Dead. I also love Game of Thrones.\\nUser 2: Me too! I love The Walking Dead and Game of Thrones.\\nUser 1: So, what are you doing this weekend?\\nUser 2: I'm not sure yet. What are you doing?\\nUser 1: I'm not sure either. Maybe we could hang out?\\nUser 2: That sounds fun. Let's do it.\\nUser 1: Great! I'll call you later to set up a time.\"},\n",
       " {'user 1 personas': 'I am 32.\\nI play video games all day.\\nI still live at home with my parents.\\nI do not want a job.\\nI eat all take out.',\n",
       "  'user 2 personas': 'I can recite the movie young frankenstein word for word.\\nI like to make my own clothes.\\nI am partially blind.\\nI do volunteer work for human rights organizations.\\nI can do convincing bird calls.',\n",
       "  'Best Generated Conversation': \"User 1: Hi, my name is John. What's your name?\\nUser 2: Hi, John, my name is Mary.\\nUser 1: It's nice to meet you, Mary. What do you do for a living?\\nUser 2: I do volunteer work for human rights organizations.\\nUser 1: That's really cool. I've always wanted to do some volunteer work, but I've never had the time.\\nUser 2: You should definitely look into it! It's a great way to give back to the community.\\nUser 1: I will. Thanks for the suggestion.\\nUser 2: No problem. So, what do you do for fun?\\nUser 1: I like to play video games. I'm a huge gamer.\\nUser 2: Oh, that's cool. I like to play video games too. What games do you like to play?\\nUser 1: I like to play all kinds of games, but I'm mostly into RPGs and strategy games.\\nUser 2: Me too! I love RPGs and strategy games. They're so much fun to play.\\nUser 1: I know, right? They're the best.\\nUser 2: So, what are some of your favorite games?\\nUser 1: I like to play a lot of different games, but some of my favorites are the Elder Scrolls series, the Fallout series, and Civilization.\\nUser 2: Oh, I love the Elder Scrolls series! I've played all of them.\\nUser 1: Me too! They're so good.\\nUser 2: So, what do you like about them?\\nUser 1: I love the open world and the freedom to do whatever you want.\\nUser 2: Me too! I love that you can just explore and do whatever you want.\\nUser 1: Yeah, it's the best.\\nUser 2: So, what are some of your favorite things to do in the Elder Scrolls games?\\nUser 1: I love to explore the world and find new things. I also love to do quests and side quests.\\nUser 2: Me too! I love doing quests and side quests.\\nUser 1: Yeah, they're so much fun.\\nUser 2: So, what's your favorite quest in the Elder Scrolls games?\\nUser 1: I think my favorite quest is the one where you have to go to the Soul Cairn.\\nUser 2: Oh, that's a good one. I loved that quest too.\\nUser 1: Yeah, it was so cool.\\nUser 2: So, what's your favorite thing about the Soul Cairn?\\nUser 1: I love the atmosphere. It's so creepy and eerie.\\nUser 2: Me too! I love the atmosphere.\\nUser 1: Yeah, it's the best.\"},\n",
       " {'user 1 personas': 'I write.\\nI work at mcdonald s.\\nI watch youtube videos.\\nI have brown hair.',\n",
       "  'user 2 personas': 'I want to move.\\nI don t like feeling controlled.\\nI wish i could take back a mistake.\\nI have a harsh inner critic.\\nI don t like my reputation.',\n",
       "  'Best Generated Conversation': \"User 1: Hi!\\nUser 2: Hey!\\nUser 1: What's up?\\nUser 2: Not much. Just hanging out.\\nUser 1: Cool. What do you like to do for fun?\\nUser 2: I like to watch YouTube videos, go to concerts, and read.\\nUser 1: Nice. I like to write, watch YouTube videos, and listen to music.\\nUser 2: What do you write?\\nUser 1: I write poetry, short stories, and essays.\\nUser 2: That's cool. I've always wanted to write a book.\\nUser 1: You should try! It's a lot of fun.\\nUser 2: I'm not sure if I'm good enough.\\nUser 1: You don't have to be good enough. Just start writing and see what happens.\\nUser 2: I'll think about it.\\nUser 1: Cool. So, what do you want to do after we graduate?\\nUser 2: I want to move to a new city. I'm tired of living in this one.\\nUser 1: I know what you mean. I'm also ready for a change.\\nUser 2: Maybe we can move to the same city.\\nUser 1: That would be cool! We could be roommates.\\nUser 2: That would be fun!\\nUser 1: So, what are we waiting for? Let's go pack our bags!\\nUser 2: Haha, okay! I'm ready!\"},\n",
       " {'user 1 personas': 'I am bald.\\nI like to swim.\\nMy favorite drink is chocolate milk.\\nI don t work.',\n",
       "  'user 2 personas': 'My favorite store is american eagle.\\nI enjoy spending time with my family.\\nI love to go running.\\nI do not like vegetables.',\n",
       "  'Best Generated Conversation': \"User 1: Hello!\\nUser 2: Hi!\\nUser 1: What do you like to do for fun?\\nUser 2: I love to spend time with my family, go running, and shop.\\nUser 1: Oh, that's great! I love to swim and go shopping too.\\nUser 2: That's awesome! We should go shopping sometime.\\nUser 1: That would be fun! What's your favorite store?\\nUser 2: My favorite store is American Eagle.\\nUser 1: Oh, I love that store! I always find great clothes there.\\nUser 2: Me too! They have a great selection of clothes.\\nUser 1: What kind of clothes do you like to wear?\\nUser 2: I like to wear casual clothes, like jeans and t-shirts.\\nUser 1: Me too! I love how comfortable they are.\\nUser 2: Me too! They're perfect for running.\\nUser 1: I know, right? I love running. It's so relaxing.\\nUser 2: Me too! It's a great way to get in shape.\\nUser 1: I know, right? I love how I feel after I've run.\\nUser 2: Me too! It's a great way to start your day.\\nUser 1: I know, right? I love waking up early and going for a run.\\nUser 2: Me too! It's the best way to start the day.\"}]"
      ]
     },
     "execution_count": 2,
     "metadata": {},
     "output_type": "execute_result"
    }
   ],
   "source": [
    "data_list = df.to_dict(orient='records')\n",
    "data_list[0:5]"
   ]
  },
  {
   "cell_type": "code",
   "execution_count": 3,
   "id": "000d32db",
   "metadata": {},
   "outputs": [],
   "source": [
    "data_list = [{\"persona\":instance[\"user 1 personas\"],\"conversation\":instance[\"Best Generated Conversation\"]} for instance in data_list]"
   ]
  },
  {
   "cell_type": "code",
   "execution_count": 4,
   "id": "2fe0b6f2",
   "metadata": {},
   "outputs": [
    {
     "data": {
      "text/plain": [
       "4"
      ]
     },
     "execution_count": 4,
     "metadata": {},
     "output_type": "execute_result"
    }
   ],
   "source": [
    "from transformers import BartTokenizer\n",
    "tokenizer = BartTokenizer.from_pretrained(\"facebook/bart-large\")\n",
    "add_special_tokens = {'additional_special_tokens': ['<query>', '<response>', '<latent>', '<persona>']}\n",
    "tokenizer.add_special_tokens(add_special_tokens)"
   ]
  },
  {
   "cell_type": "code",
   "execution_count": 5,
   "id": "85a6767b",
   "metadata": {},
   "outputs": [],
   "source": [
    "args = {\n",
    "   \"num_latent\": 10,\n",
    "   \"num_latent2\": 10,\n",
    "}"
   ]
  },
  {
   "cell_type": "code",
   "execution_count": 6,
   "id": "672b34d0",
   "metadata": {},
   "outputs": [],
   "source": [
    "encoded_tokens = tokenizer.encode(add_special_tokens['additional_special_tokens'])\n",
    "args['bos'], args[\"query\"], args[\"response\"], args[\"latent\"], args[\"persona\"], args[\"eos\"] = encoded_tokens\n",
    "args[\"pad\"] = 1"
   ]
  },
  {
   "cell_type": "code",
   "execution_count": 7,
   "id": "0cf0c6e4",
   "metadata": {},
   "outputs": [
    {
     "data": {
      "text/plain": [
       "{'num_latent': 10,\n",
       " 'num_latent2': 10,\n",
       " 'bos': 0,\n",
       " 'query': 50265,\n",
       " 'response': 50266,\n",
       " 'latent': 50267,\n",
       " 'persona': 50268,\n",
       " 'eos': 2,\n",
       " 'pad': 1}"
      ]
     },
     "execution_count": 7,
     "metadata": {},
     "output_type": "execute_result"
    }
   ],
   "source": [
    "args"
   ]
  },
  {
   "cell_type": "code",
   "execution_count": 8,
   "id": "52f539db",
   "metadata": {},
   "outputs": [],
   "source": [
    "for i, instance in enumerate(data_list):\n",
    "    try:\n",
    "        instance[\"persona\"] = instance[\"persona\"].split(\"\\n\")\n",
    "        instance[\"conversation\"] = instance[\"conversation\"].split(\"\\n\")\n",
    "        instance[\"persona\"] = [p.strip() for p in instance[\"persona\"] if p.strip()]\n",
    "        instance[\"conversation\"] = [c.strip() for c in instance[\"conversation\"] if c.strip()]\n",
    "\n",
    "        instance[\"conversation\"] = [c.replace(\"User 1:\", \"\") for c in instance[\"conversation\"]]\n",
    "        instance[\"conversation\"] = [c.replace(\"User 2:\", \"\").strip() for c in instance[\"conversation\"]]\n",
    "    except Exception as e:\n",
    "        print(\"Error in instance:\", instance)\n",
    "        print(\"Error in instance index:\", i)\n",
    "        print(\"Exception:\", e)\n",
    "        continue"
   ]
  },
  {
   "cell_type": "code",
   "execution_count": 106,
   "id": "d4bfd7d2",
   "metadata": {},
   "outputs": [
    {
     "data": {
      "text/plain": [
       "{'persona': ['I love playing video games.',\n",
       "  'Hey there my name is jordan and i am a veterinarian.',\n",
       "  'I am also a musician on the weekends.',\n",
       "  'Love to read drama books.'],\n",
       " 'conversation': nan}"
      ]
     },
     "execution_count": 106,
     "metadata": {},
     "output_type": "execute_result"
    }
   ],
   "source": [
    "data_list[510]"
   ]
  },
  {
   "cell_type": "code",
   "execution_count": 108,
   "id": "8dc0097c",
   "metadata": {},
   "outputs": [
    {
     "data": {
      "text/plain": [
       "{'persona': ['I run to relieve stress.',\n",
       "  'I am learning jujitsu but am still new to it.',\n",
       "  'I am taking college and hoping to be a teacher.',\n",
       "  'Poker is my favorite card game.',\n",
       "  'I am a huge ed sheeran fan.'],\n",
       " 'conversation': ['What do you do for fun?',\n",
       "  \"I love to read fantasy books. I've been reading the Lord of the Rings series recently.\",\n",
       "  \"Oh, I love the Lord of the Rings! I've read the books and seen the movies.\",\n",
       "  'Me too! The books are so much better than the movies, though.',\n",
       "  'I agree. The books have so much more detail and world-building.',\n",
       "  \"What's your favorite part of the books?\",\n",
       "  \"I love the characters. They're so well-developed and relatable.\",\n",
       "  \"Me too! I also love the story. It's so epic and inspiring.\",\n",
       "  \"I agree. It's one of my favorite books of all time.\",\n",
       "  \"Me too! I'm so glad I met someone who loves the Lord of the Rings as much as I do.\",\n",
       "  \"Me too! It's always nice to meet a fellow fan.\",\n",
       "  'So, what other hobbies do you have?',\n",
       "  'I also like to run and play poker.',\n",
       "  \"Running is a great way to relieve stress. I've never played poker, but it looks like a lot of fun.\",\n",
       "  'It is! I like to play poker with my friends.',\n",
       "  \"I'm going to have to try it sometime.\",\n",
       "  \"You should! It's a lot of fun.\",\n",
       "  'Thanks for the suggestion.',\n",
       "  'No problem.']}"
      ]
     },
     "execution_count": 108,
     "metadata": {},
     "output_type": "execute_result"
    }
   ],
   "source": [
    "data_list.pop(510)"
   ]
  },
  {
   "cell_type": "code",
   "execution_count": 9,
   "id": "05b36744",
   "metadata": {},
   "outputs": [
    {
     "data": {
      "text/plain": [
       "{'persona': ['I am 32.',\n",
       "  'I do not want a job.',\n",
       "  'I play video games all day.',\n",
       "  'I still live at home with my parents.'],\n",
       " 'conversation': [\"Hi! I'm [user 1's name].\",\n",
       "  \"Hi [user 1's name], I'm [user 2's name].\",\n",
       "  'What do you do for fun?',\n",
       "  'I like to play video games, go to the beach, and read.',\n",
       "  \"I like to play video games too! I'm not much of a reader, though.\",\n",
       "  'What video games do you like to play?',\n",
       "  \"I like to play a lot of different games, but I'm really into competitive online games right now.\",\n",
       "  \"I'm not really into competitive games, I like to play more relaxing games.\",\n",
       "  \"That's cool. What kind of relaxing games do you like to play?\",\n",
       "  'I like to play puzzle games, simulation games, and story-based games.',\n",
       "  \"I've never been much of a puzzle game person, but I do like simulation games and story-based games.\",\n",
       "  \"Nice! What's your favorite simulation game?\",\n",
       "  \"I like Stardew Valley a lot. It's a farming game, but it's also really relaxing and fun.\",\n",
       "  \"I've heard good things about that game. I might have to check it out.\",\n",
       "  \"You should! It's a lot of fun.\",\n",
       "  \"Well, I'm glad we met. Maybe we can play some games together sometime.\",\n",
       "  'That would be fun!',\n",
       "  \"Great! I'll send you my Steam name.\",\n",
       "  'Ok, sounds good.']}"
      ]
     },
     "execution_count": 9,
     "metadata": {},
     "output_type": "execute_result"
    }
   ],
   "source": [
    "data_list[0]"
   ]
  },
  {
   "cell_type": "code",
   "execution_count": null,
   "id": "091f2fff",
   "metadata": {},
   "outputs": [],
   "source": [
    "for data in data_list:\n",
    "    conversation = data[\"conversation\"]\n",
    "    persona = data[\"persona\"]\n",
    "    for utterance in conversation:\n",
    "        if \"[user 1's name]\" in utterance:\n",
    "            print(\"Found [user 1's name] in utterance:\", utterance)\n",
    "    break"
   ]
  },
  {
   "cell_type": "code",
   "execution_count": null,
   "id": "d2dad9b0",
   "metadata": {},
   "outputs": [],
   "source": [
    "data_ids = [\n",
    "    {\n",
    "        \"persona\":[tokenizer.encode(persona) for persona in instance['persona']],\n",
    "        \"conversation\":[tokenizer.encode(utterance) for utterance in instance['conversation']]\n",
    "    }\n",
    "    \n",
    "    for instance in data_list\n",
    "]"
   ]
  },
  {
   "cell_type": "code",
   "execution_count": null,
   "id": "45437b5d",
   "metadata": {},
   "outputs": [],
   "source": [
    "for dat in data_ids:\n",
    "    for persona in dat['persona']:\n",
    "       persona.pop(0)"
   ]
  },
  {
   "cell_type": "code",
   "execution_count": null,
   "id": "586d59b7",
   "metadata": {},
   "outputs": [],
   "source": [
    "for dat in data_ids:\n",
    "    for i,utter in enumerate(dat['conversation']):\n",
    "        if i % 2 == 0:\n",
    "            utter[0] = args[\"query\"]\n",
    "        else:\n",
    "            utter[0] = args[\"response\"]"
   ]
  },
  {
   "cell_type": "code",
   "execution_count": null,
   "id": "52b5db59",
   "metadata": {},
   "outputs": [
    {
     "data": {
      "text/plain": [
       "{'persona': [[100, 95, 2162, 10, 1518, 92, 790, 4, 2],\n",
       "  [100, 101, 7, 3836, 23, 5, 950, 4, 2],\n",
       "  [100, 422, 10, 2335, 41227, 334, 4, 2],\n",
       "  [100, 33, 10, 380, 4045, 13495, 4, 2],\n",
       "  [100, 101, 602, 8, 6016, 842, 462, 16731, 4, 2]],\n",
       " 'conversation': [[50265,\n",
       "   30086,\n",
       "   6,\n",
       "   38,\n",
       "   437,\n",
       "   646,\n",
       "   44518,\n",
       "   112,\n",
       "   18,\n",
       "   766,\n",
       "   8174,\n",
       "   653,\n",
       "   18,\n",
       "   110,\n",
       "   766,\n",
       "   116,\n",
       "   2],\n",
       "  [50266,\n",
       "   30086,\n",
       "   6,\n",
       "   38,\n",
       "   437,\n",
       "   646,\n",
       "   44518,\n",
       "   132,\n",
       "   18,\n",
       "   766,\n",
       "   8174,\n",
       "   85,\n",
       "   18,\n",
       "   2579,\n",
       "   7,\n",
       "   972,\n",
       "   47,\n",
       "   4,\n",
       "   2],\n",
       "  [50265, 41541, 7, 972, 47, 350, 4, 653, 32, 47, 2509, 11, 116, 2],\n",
       "  [50266,\n",
       "   100,\n",
       "   101,\n",
       "   7,\n",
       "   972,\n",
       "   92,\n",
       "   82,\n",
       "   6,\n",
       "   310,\n",
       "   7017,\n",
       "   6664,\n",
       "   354,\n",
       "   14650,\n",
       "   6,\n",
       "   8,\n",
       "   1930,\n",
       "   86,\n",
       "   19,\n",
       "   127,\n",
       "   284,\n",
       "   4,\n",
       "   2],\n",
       "  [50265,\n",
       "   11195,\n",
       "   32,\n",
       "   70,\n",
       "   372,\n",
       "   383,\n",
       "   7,\n",
       "   28,\n",
       "   2509,\n",
       "   11,\n",
       "   4,\n",
       "   38,\n",
       "   101,\n",
       "   7,\n",
       "   3836,\n",
       "   23,\n",
       "   5,\n",
       "   950,\n",
       "   6,\n",
       "   422,\n",
       "   10,\n",
       "   2335,\n",
       "   41227,\n",
       "   334,\n",
       "   6,\n",
       "   8,\n",
       "   3529,\n",
       "   10,\n",
       "   319,\n",
       "   9,\n",
       "   29842,\n",
       "   4,\n",
       "   2],\n",
       "  [50266,\n",
       "   1711,\n",
       "   18,\n",
       "   2679,\n",
       "   4,\n",
       "   38,\n",
       "   348,\n",
       "   393,\n",
       "   1145,\n",
       "   1268,\n",
       "   54,\n",
       "   1237,\n",
       "   10,\n",
       "   2335,\n",
       "   41227,\n",
       "   334,\n",
       "   137,\n",
       "   4,\n",
       "   2],\n",
       "  [50265,\n",
       "   243,\n",
       "   18,\n",
       "   10,\n",
       "   319,\n",
       "   9,\n",
       "   1531,\n",
       "   4,\n",
       "   38,\n",
       "   120,\n",
       "   7,\n",
       "   173,\n",
       "   19,\n",
       "   3678,\n",
       "   358,\n",
       "   183,\n",
       "   8,\n",
       "   244,\n",
       "   106,\n",
       "   1532,\n",
       "   141,\n",
       "   7,\n",
       "   18871,\n",
       "   4,\n",
       "   2],\n",
       "  [50266, 1711, 4428, 101, 10, 372, 633, 4, 38, 657, 3678, 4, 2],\n",
       "  [50265, 5096, 350, 328, 252, 214, 5, 275, 4, 2],\n",
       "  [50266, 100, 33, 10, 28522, 1440, 12134, 4, 91, 18, 127, 275, 1441, 4, 2],\n",
       "  [50265,\n",
       "   100,\n",
       "   657,\n",
       "   27756,\n",
       "   328,\n",
       "   38,\n",
       "   341,\n",
       "   7,\n",
       "   33,\n",
       "   10,\n",
       "   28522,\n",
       "   77,\n",
       "   38,\n",
       "   21,\n",
       "   10,\n",
       "   4607,\n",
       "   4,\n",
       "   2],\n",
       "  [50266, 1711, 18, 6344, 4, 653, 21, 63, 766, 116, 2],\n",
       "  [50265, 9962, 766, 21, 20683, 4, 91, 21, 10, 1275, 12, 24845, 29432, 4, 2],\n",
       "  [50266, 100, 657, 5, 766, 20683, 4, 85, 18, 98, 3035, 4, 2],\n",
       "  [50265, 22086, 4, 38, 802, 98, 350, 4, 2],\n",
       "  [50266,\n",
       "   100,\n",
       "   437,\n",
       "   7785,\n",
       "   52,\n",
       "   1145,\n",
       "   4,\n",
       "   85,\n",
       "   18,\n",
       "   2579,\n",
       "   7,\n",
       "   1067,\n",
       "   7,\n",
       "   951,\n",
       "   54,\n",
       "   3829,\n",
       "   3678,\n",
       "   8,\n",
       "   27756,\n",
       "   4,\n",
       "   2],\n",
       "  [50265,\n",
       "   5096,\n",
       "   350,\n",
       "   4,\n",
       "   85,\n",
       "   18,\n",
       "   460,\n",
       "   2579,\n",
       "   7,\n",
       "   972,\n",
       "   951,\n",
       "   54,\n",
       "   34,\n",
       "   1122,\n",
       "   3168,\n",
       "   4,\n",
       "   2],\n",
       "  [50266, 100, 1034, 52, 64, 6713, 66, 456, 11133, 4, 2],\n",
       "  [50265,\n",
       "   100,\n",
       "   1017,\n",
       "   657,\n",
       "   14,\n",
       "   4,\n",
       "   166,\n",
       "   64,\n",
       "   213,\n",
       "   310,\n",
       "   7017,\n",
       "   6664,\n",
       "   354,\n",
       "   14650,\n",
       "   50,\n",
       "   120,\n",
       "   103,\n",
       "   2480,\n",
       "   6353,\n",
       "   4,\n",
       "   2],\n",
       "  [50266, 1711, 4428, 101, 10, 563, 4, 2],\n",
       "  [50265, 19065, 4, 38, 581, 2788, 47, 423, 4, 2],\n",
       "  [50266, 45953, 205, 4, 36255, 4, 2],\n",
       "  [50265, 2765, 242, 4, 2]]}"
      ]
     },
     "execution_count": 216,
     "metadata": {},
     "output_type": "execute_result"
    }
   ],
   "source": [
    "data_ids[0]"
   ]
  },
  {
   "cell_type": "code",
   "execution_count": null,
   "id": "f06b96ea",
   "metadata": {},
   "outputs": [],
   "source": [
    "def get_history_windows(data, window_size=5):\n",
    "    history_windows = []\n",
    "    labels = []\n",
    "    for i in range(len(data) - 1):\n",
    "        if data[i][0] == args[\"query\"]:\n",
    "            window = []\n",
    "            # add the query itself first\n",
    "            window.append(data[i])\n",
    "\n",
    "            # move backwards and collect previous turns (up to window_size)\n",
    "            j = i - 1\n",
    "            while j >= 0 and len(window) < window_size:\n",
    "                window.insert(0, data[j])\n",
    "                j -= 1\n",
    "            \n",
    "            history_windows.append(window)\n",
    "            labels.append(data[i + 1])\n",
    "\n",
    "    return history_windows,labels"
   ]
  },
  {
   "cell_type": "code",
   "execution_count": null,
   "id": "57ec9913",
   "metadata": {},
   "outputs": [],
   "source": [
    "history_windows, labels = get_history_windows(data_ids[0]['conversation'], window_size=5)"
   ]
  },
  {
   "cell_type": "code",
   "execution_count": null,
   "id": "cd194e1f",
   "metadata": {},
   "outputs": [
    {
     "name": "stdout",
     "output_type": "stream",
     "text": [
      "[50265, 30086, 6, 38, 437, 646, 44518, 112, 18, 766, 8174, 653, 18, 110, 766, 116, 2]\n",
      "<query> Hi, I'm [User 1's name]. What's your name?</s>\n",
      "[50265, 30086, 6, 38, 437, 646, 44518, 112, 18, 766, 8174, 653, 18, 110, 766, 116, 2, 50266, 30086, 6, 38, 437, 646, 44518, 132, 18, 766, 8174, 85, 18, 2579, 7, 972, 47, 4, 2, 50265, 41541, 7, 972, 47, 350, 4, 653, 32, 47, 2509, 11, 116, 2]\n",
      "<query> Hi, I'm [User 1's name]. What's your name?</s> <response> Hi, I'm [User 2's name]. It's nice to meet you.</s> <query> Nice to meet you too. What are you interested in?</s>\n",
      "[50265, 30086, 6, 38, 437, 646, 44518, 112, 18, 766, 8174, 653, 18, 110, 766, 116, 2, 50266, 30086, 6, 38, 437, 646, 44518, 132, 18, 766, 8174, 85, 18, 2579, 7, 972, 47, 4, 2, 50265, 41541, 7, 972, 47, 350, 4, 653, 32, 47, 2509, 11, 116, 2, 50266, 100, 101, 7, 972, 92, 82, 6, 310, 7017, 6664, 354, 14650, 6, 8, 1930, 86, 19, 127, 284, 4, 2, 50265, 11195, 32, 70, 372, 383, 7, 28, 2509, 11, 4, 38, 101, 7, 3836, 23, 5, 950, 6, 422, 10, 2335, 41227, 334, 6, 8, 3529, 10, 319, 9, 29842, 4, 2]\n",
      "<query> Hi, I'm [User 1's name]. What's your name?</s> <response> Hi, I'm [User 2's name]. It's nice to meet you.</s> <query> Nice to meet you too. What are you interested in?</s> <response> I like to meet new people, play ultimate frisbee, and spend time with my family.</s> <query> Those are all great things to be interested in. I like to dance at the club, run a dog obedience school, and eat a lot of sweets.</s>\n",
      "[50265, 41541, 7, 972, 47, 350, 4, 653, 32, 47, 2509, 11, 116, 2, 50266, 100, 101, 7, 972, 92, 82, 6, 310, 7017, 6664, 354, 14650, 6, 8, 1930, 86, 19, 127, 284, 4, 2, 50265, 11195, 32, 70, 372, 383, 7, 28, 2509, 11, 4, 38, 101, 7, 3836, 23, 5, 950, 6, 422, 10, 2335, 41227, 334, 6, 8, 3529, 10, 319, 9, 29842, 4, 2, 50266, 1711, 18, 2679, 4, 38, 348, 393, 1145, 1268, 54, 1237, 10, 2335, 41227, 334, 137, 4, 2, 50265, 243, 18, 10, 319, 9, 1531, 4, 38, 120, 7, 173, 19, 3678, 358, 183, 8, 244, 106, 1532, 141, 7, 18871, 4, 2]\n",
      "<query> Nice to meet you too. What are you interested in?</s> <response> I like to meet new people, play ultimate frisbee, and spend time with my family.</s> <query> Those are all great things to be interested in. I like to dance at the club, run a dog obedience school, and eat a lot of sweets.</s> <response> That's interesting. I've never met anyone who runs a dog obedience school before.</s> <query> It's a lot of fun. I get to work with dogs every day and help them learn how to behave.</s>\n",
      "[50265, 11195, 32, 70, 372, 383, 7, 28, 2509, 11, 4, 38, 101, 7, 3836, 23, 5, 950, 6, 422, 10, 2335, 41227, 334, 6, 8, 3529, 10, 319, 9, 29842, 4, 2, 50266, 1711, 18, 2679, 4, 38, 348, 393, 1145, 1268, 54, 1237, 10, 2335, 41227, 334, 137, 4, 2, 50265, 243, 18, 10, 319, 9, 1531, 4, 38, 120, 7, 173, 19, 3678, 358, 183, 8, 244, 106, 1532, 141, 7, 18871, 4, 2, 50266, 1711, 4428, 101, 10, 372, 633, 4, 38, 657, 3678, 4, 2, 50265, 5096, 350, 328, 252, 214, 5, 275, 4, 2]\n",
      "<query> Those are all great things to be interested in. I like to dance at the club, run a dog obedience school, and eat a lot of sweets.</s> <response> That's interesting. I've never met anyone who runs a dog obedience school before.</s> <query> It's a lot of fun. I get to work with dogs every day and help them learn how to behave.</s> <response> That sounds like a great job. I love dogs.</s> <query> Me too! They're the best.</s>\n",
      "[50265, 243, 18, 10, 319, 9, 1531, 4, 38, 120, 7, 173, 19, 3678, 358, 183, 8, 244, 106, 1532, 141, 7, 18871, 4, 2, 50266, 1711, 4428, 101, 10, 372, 633, 4, 38, 657, 3678, 4, 2, 50265, 5096, 350, 328, 252, 214, 5, 275, 4, 2, 50266, 100, 33, 10, 28522, 1440, 12134, 4, 91, 18, 127, 275, 1441, 4, 2, 50265, 100, 657, 27756, 328, 38, 341, 7, 33, 10, 28522, 77, 38, 21, 10, 4607, 4, 2]\n",
      "<query> It's a lot of fun. I get to work with dogs every day and help them learn how to behave.</s> <response> That sounds like a great job. I love dogs.</s> <query> Me too! They're the best.</s> <response> I have a turtle named Timothy. He's my best friend.</s> <query> I love turtles! I used to have a turtle when I was a kid.</s>\n",
      "[50265, 5096, 350, 328, 252, 214, 5, 275, 4, 2, 50266, 100, 33, 10, 28522, 1440, 12134, 4, 91, 18, 127, 275, 1441, 4, 2, 50265, 100, 657, 27756, 328, 38, 341, 7, 33, 10, 28522, 77, 38, 21, 10, 4607, 4, 2, 50266, 1711, 18, 6344, 4, 653, 21, 63, 766, 116, 2, 50265, 9962, 766, 21, 20683, 4, 91, 21, 10, 1275, 12, 24845, 29432, 4, 2]\n",
      "<query> Me too! They're the best.</s> <response> I have a turtle named Timothy. He's my best friend.</s> <query> I love turtles! I used to have a turtle when I was a kid.</s> <response> That's awesome. What was its name?</s> <query> His name was Leonardo. He was a red-eared slider.</s>\n",
      "[50265, 100, 657, 27756, 328, 38, 341, 7, 33, 10, 28522, 77, 38, 21, 10, 4607, 4, 2, 50266, 1711, 18, 6344, 4, 653, 21, 63, 766, 116, 2, 50265, 9962, 766, 21, 20683, 4, 91, 21, 10, 1275, 12, 24845, 29432, 4, 2, 50266, 100, 657, 5, 766, 20683, 4, 85, 18, 98, 3035, 4, 2, 50265, 22086, 4, 38, 802, 98, 350, 4, 2]\n",
      "<query> I love turtles! I used to have a turtle when I was a kid.</s> <response> That's awesome. What was its name?</s> <query> His name was Leonardo. He was a red-eared slider.</s> <response> I love the name Leonardo. It's so cool.</s> <query> Thanks. I thought so too.</s>\n",
      "[50265, 9962, 766, 21, 20683, 4, 91, 21, 10, 1275, 12, 24845, 29432, 4, 2, 50266, 100, 657, 5, 766, 20683, 4, 85, 18, 98, 3035, 4, 2, 50265, 22086, 4, 38, 802, 98, 350, 4, 2, 50266, 100, 437, 7785, 52, 1145, 4, 85, 18, 2579, 7, 1067, 7, 951, 54, 3829, 3678, 8, 27756, 4, 2, 50265, 5096, 350, 4, 85, 18, 460, 2579, 7, 972, 951, 54, 34, 1122, 3168, 4, 2]\n",
      "<query> His name was Leonardo. He was a red-eared slider.</s> <response> I love the name Leonardo. It's so cool.</s> <query> Thanks. I thought so too.</s> <response> I'm glad we met. It's nice to talk to someone who likes dogs and turtles.</s> <query> Me too. It's always nice to meet someone who has similar interests.</s>\n",
      "[50265, 22086, 4, 38, 802, 98, 350, 4, 2, 50266, 100, 437, 7785, 52, 1145, 4, 85, 18, 2579, 7, 1067, 7, 951, 54, 3829, 3678, 8, 27756, 4, 2, 50265, 5096, 350, 4, 85, 18, 460, 2579, 7, 972, 951, 54, 34, 1122, 3168, 4, 2, 50266, 100, 1034, 52, 64, 6713, 66, 456, 11133, 4, 2, 50265, 100, 1017, 657, 14, 4, 166, 64, 213, 310, 7017, 6664, 354, 14650, 50, 120, 103, 2480, 6353, 4, 2]\n",
      "<query> Thanks. I thought so too.</s> <response> I'm glad we met. It's nice to talk to someone who likes dogs and turtles.</s> <query> Me too. It's always nice to meet someone who has similar interests.</s> <response> I hope we can hang out again sometime.</s> <query> I'd love that. We can go play ultimate frisbee or get some ice cream.</s>\n",
      "[50265, 5096, 350, 4, 85, 18, 460, 2579, 7, 972, 951, 54, 34, 1122, 3168, 4, 2, 50266, 100, 1034, 52, 64, 6713, 66, 456, 11133, 4, 2, 50265, 100, 1017, 657, 14, 4, 166, 64, 213, 310, 7017, 6664, 354, 14650, 50, 120, 103, 2480, 6353, 4, 2, 50266, 1711, 4428, 101, 10, 563, 4, 2, 50265, 19065, 4, 38, 581, 2788, 47, 423, 4, 2]\n",
      "<query> Me too. It's always nice to meet someone who has similar interests.</s> <response> I hope we can hang out again sometime.</s> <query> I'd love that. We can go play ultimate frisbee or get some ice cream.</s> <response> That sounds like a plan.</s> <query> Great. I'll text you later.</s>\n"
     ]
    }
   ],
   "source": [
    "from itertools import chain\n",
    "\n",
    "for l in history_windows:\n",
    "    # print(l[0])\n",
    "    ids= list(chain.from_iterable(l))\n",
    "    print(ids)\n",
    "    print(tokenizer.decode(ids))"
   ]
  },
  {
   "cell_type": "code",
   "execution_count": null,
   "id": "ae48c134",
   "metadata": {},
   "outputs": [
    {
     "name": "stdout",
     "output_type": "stream",
     "text": [
      "<response> Hi, I'm [User 2's name]. It's nice to meet you.</s>\n",
      "<response> I like to meet new people, play ultimate frisbee, and spend time with my family.</s>\n",
      "<response> That's interesting. I've never met anyone who runs a dog obedience school before.</s>\n",
      "<response> That sounds like a great job. I love dogs.</s>\n",
      "<response> I have a turtle named Timothy. He's my best friend.</s>\n",
      "<response> That's awesome. What was its name?</s>\n",
      "<response> I love the name Leonardo. It's so cool.</s>\n",
      "<response> I'm glad we met. It's nice to talk to someone who likes dogs and turtles.</s>\n",
      "<response> I hope we can hang out again sometime.</s>\n",
      "<response> That sounds like a plan.</s>\n",
      "<response> Sounds good. Bye.</s>\n"
     ]
    }
   ],
   "source": [
    "for lable in labels:\n",
    "    print(tokenizer.decode(lable))"
   ]
  },
  {
   "cell_type": "code",
   "execution_count": null,
   "id": "d2e56210",
   "metadata": {},
   "outputs": [
    {
     "data": {
      "text/plain": [
       "'I just bought a brand new house.</s>I like to dance at the club.</s>I run a dog obedience school.</s>I have a big sweet tooth.</s>I like taking and posting selkies.</s>'"
      ]
     },
     "execution_count": 212,
     "metadata": {},
     "output_type": "execute_result"
    }
   ],
   "source": [
    "tokenizer.decode(list(chain.from_iterable(data_ids[0]['persona'])))"
   ]
  },
  {
   "cell_type": "code",
   "execution_count": null,
   "id": "8eaf737f",
   "metadata": {},
   "outputs": [],
   "source": [
    "# args['bos'], args[\"query\"], args[\"response\"], args[\"latent\"], args[\"persona\"], args[\"eos\"] "
   ]
  },
  {
   "cell_type": "code",
   "execution_count": null,
   "id": "620b73b2",
   "metadata": {},
   "outputs": [
    {
     "data": {
      "text/plain": [
       "['I love to hang out with my friends.',\n",
       " 'I love playing sports and being active.',\n",
       " 'I am a 22 year old girl.',\n",
       " 'I am in college studying education.',\n",
       " 'I love rap music.']"
      ]
     },
     "execution_count": 215,
     "metadata": {},
     "output_type": "execute_result"
    }
   ],
   "source": [
    "instance['persona']"
   ]
  },
  {
   "cell_type": "code",
   "execution_count": null,
   "id": "8c399c27",
   "metadata": {},
   "outputs": [],
   "source": [
    "from itertools import chain\n",
    "\n",
    "train_data = []\n",
    "\n",
    "for instance in data_ids:\n",
    "    history_windows, labels = get_history_windows(instance['conversation'],window_size=5)\n",
    "\n",
    "    for window, label in zip(history_windows, labels):\n",
    "        train_data.append({\n",
    "            \"input_ids\": [args[\"latent\"], args[\"persona\"]] \n",
    "                          + list(chain.from_iterable(instance['persona'])) \n",
    "                          + list(chain.from_iterable(window)),\n",
    "            \"labels\": label\n",
    "        })\n"
   ]
  },
  {
   "cell_type": "code",
   "execution_count": null,
   "id": "7f13f4dd",
   "metadata": {},
   "outputs": [
    {
     "data": {
      "text/plain": [
       "\"<latent> <persona> I just bought a brand new house.</s>I like to dance at the club.</s>I run a dog obedience school.</s>I have a big sweet tooth.</s>I like taking and posting selkies.</s> <query> Hi, I'm [User 1's name]. What's your name?</s>\""
      ]
     },
     "execution_count": 236,
     "metadata": {},
     "output_type": "execute_result"
    }
   ],
   "source": [
    "tokenizer.decode(train_data[0]['input_ids'])"
   ]
  },
  {
   "cell_type": "code",
   "execution_count": null,
   "id": "1f7cfb80",
   "metadata": {},
   "outputs": [
    {
     "data": {
      "text/plain": [
       "\"<response> Hi, I'm [User 2's name]. It's nice to meet you.</s>\""
      ]
     },
     "execution_count": 237,
     "metadata": {},
     "output_type": "execute_result"
    }
   ],
   "source": [
    "tokenizer.decode(train_data[0]['labels'])"
   ]
  },
  {
   "cell_type": "code",
   "execution_count": null,
   "id": "33a8adfa",
   "metadata": {},
   "outputs": [],
   "source": [
    "import pickle\n",
    "\n",
    "# # Save the trainset to a pickle file\n",
    "# with open('trainset.pkl', 'wb') as f_train:\n",
    "#     pickle.dump(trainset, f_train)\n",
    "\n",
    "# print(\"trainset saved to 'trainset.pkl'\")\n",
    "\n",
    "# Save the valset to a pickle file\n",
    "with open('./Synthetic-Persona-Chat/prepared_data/train_data.pkl', 'wb') as f_val:\n",
    "    pickle.dump(train_data, f_val)"
   ]
  }
 ],
 "metadata": {
  "kernelspec": {
   "display_name": "lmedr_3",
   "language": "python",
   "name": "python3"
  },
  "language_info": {
   "codemirror_mode": {
    "name": "ipython",
    "version": 3
   },
   "file_extension": ".py",
   "mimetype": "text/x-python",
   "name": "python",
   "nbconvert_exporter": "python",
   "pygments_lexer": "ipython3",
   "version": "3.10.16"
  }
 },
 "nbformat": 4,
 "nbformat_minor": 5
}
